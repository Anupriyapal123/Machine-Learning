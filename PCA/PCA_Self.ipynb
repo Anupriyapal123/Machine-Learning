{
  "nbformat": 4,
  "nbformat_minor": 0,
  "metadata": {
    "colab": {
      "provenance": []
    },
    "kernelspec": {
      "name": "python3",
      "display_name": "Python 3"
    }
  },
  "cells": [
    {
      "cell_type": "code",
      "metadata": {
        "id": "8IiM8AcIbLZP",
        "outputId": "a4999a1e-175d-4d4c-d6e9-ef71171fc492",
        "colab": {
          "base_uri": "https://localhost:8080/",
          "height": 374
        }
      },
      "source": [
        "!pip install mnist\n",
        "import numpy as np\n",
        "import pandas as pd\n",
        "import matplotlib.pyplot as plt\n",
        "import mnist\n",
        "\n",
        "class PCA:\n",
        "  def __init__(self ,n_dim):\n",
        "    self.n_dim=n_dim\n",
        "    self.components=None\n",
        "    self.mean=None\n",
        "\n",
        "  def fit(self,X):\n",
        "    self.mean=np.mean(X,axis=0)\n",
        "    X=X- self.mean\n",
        "    matrix=np.cov(X.T)\n",
        "\n",
        "# calculating the eigenvalues and eigenvectors using numpy\n",
        "\n",
        "    eigenvectors,eigenvalues=np.linalg.eig(matrix)\n",
        "    eigenvectors=eigenvectors.T\n",
        "\n",
        "    # sorting the eigenvalues in descending order\n",
        "\n",
        "    idx=np.argsort(eigenvalues)[::-1]\n",
        "    eigenvalues=eigenvalues[idx]\n",
        "    eigenvectors=eigenvectors[idx]\n",
        "\n",
        "# taking n eigenvectors corresponding to largest n eigenvalues for n dimention subspace. \n",
        "    self.components=eigenvectors[0:self.n_dim]\n",
        "\n",
        "  def project(self,X):\n",
        "    X=X-self.mean\n",
        "    return np.dot(X,self.components.T)\n",
        "\n",
        "# Loading mnist dataset\n",
        "\n",
        "train_sample=mnist.train_images()\n",
        "train_labels=mnist.train_labels()\n",
        "\n",
        "#Normalising the training dataset \n",
        "train_sample=train_sample/255.0\n",
        "\n",
        "#Flattening  the dataset\n",
        "train_sample=train_sample.reshape((-1,784))\n",
        "\n",
        "train_sample=train_sample.reshape((-1,784))\n",
        "print(train_sample.shape)\n",
        "\n",
        "#Calling PCA with 500 dimentions\n",
        "\n",
        "pca=PCA(500)\n",
        "pca.fit(train_sample)\n",
        "\n",
        "sample_projected=pca.project(train_sample)\n",
        "\n",
        "# Shape of both training datset and projected data\n",
        "print('Shape of training sample:',train_sample.shape)\n",
        "print('Shape of projected sample:',sample_projected.shape)\n",
        "x1=sample_projected[:,0]\n",
        "x2=sample_projected[:,1]\n",
        "\n",
        "plt.scatter(x1,x2,c=train_labels)\n",
        "\n",
        "\n",
        "\n"
      ],
      "execution_count": null,
      "outputs": [
        {
          "output_type": "stream",
          "text": [
            "Requirement already satisfied: mnist in /usr/local/lib/python3.6/dist-packages (0.2.2)\n",
            "Requirement already satisfied: numpy in /usr/local/lib/python3.6/dist-packages (from mnist) (1.18.5)\n",
            "(60000, 784)\n",
            "Shape of training sample: (60000, 784)\n",
            "Shape of projected sample: (60000, 500)\n"
          ],
          "name": "stdout"
        },
        {
          "output_type": "execute_result",
          "data": {
            "text/plain": [
              "<matplotlib.collections.PathCollection at 0x7f9ceb7d0470>"
            ]
          },
          "metadata": {
            "tags": []
          },
          "execution_count": 9
        },
        {
          "output_type": "display_data",
          "data": {
            "image/png": "[encoded data removed]",
            "text/plain": [
              "<Figure size 432x288 with 1 Axes>"
            ]
          },
          "metadata": {
            "tags": [],
            "needs_background": "light"
          }
        }
      ]
    }
  ]
}