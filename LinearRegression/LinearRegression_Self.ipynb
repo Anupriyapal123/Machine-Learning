{
  "nbformat": 4,
  "nbformat_minor": 0,
  "metadata": {
    "colab": {
      "provenance": []
    },
    "kernelspec": {
      "name": "python3",
      "display_name": "Python 3"
    }
  },
  "cells": [
    {
      "cell_type": "code",
      "metadata": {
        "id": "vAQ096XnYoYA",
        "outputId": "c2480121-5c7d-42c3-b784-6738ccc867c7",
        "colab": {
          "base_uri": "https://localhost:8080/",
          "height": 412
        }
      },
      "source": [
        "import pandas as pd\n",
        "import numpy as np\n",
        "import matplotlib.pyplot as plt\n",
        "from sklearn.linear_model import LinearRegression\n",
        "\n",
        "#Read data from dataset\n",
        "\n",
        "df=pd.read_csv(\"Simple linear regression.csv\")\n",
        "df.head(20)\n",
        "\n",
        "#Converting dataset into two variables x ,y for Linear Regression\n",
        "\n",
        "x=df['SAT'].to_list()\n",
        "y=df['GPA'].to_list()\n",
        "\n",
        "\n",
        "#Standardization of dataset by finding mean and standard deviation\n",
        "sum=0\n",
        "size=len(x)\n",
        "print(size)\n",
        "for i in x:\n",
        "  sum=sum+i\n",
        "mean=sum/size\n",
        "s=0\n",
        "for j in x:\n",
        "  s=s+pow((i-mean),2)\n",
        "\n",
        "std=pow((s/(size-1)),0.5)\n",
        "print(std)\n",
        "l=[]\n",
        "for i in x:\n",
        "  l.append((i-mean)/std)\n",
        "print(l)\n",
        "\n",
        "#We will consider two matrix for calculation of parameter matrix\n",
        "A=np.array([[0,0],[0,0]])\n",
        "b=np.array([[0],[0]])\n",
        "#As we are considering homogeneous equation\n",
        "for i in range(0,size):\n",
        "  inde_var=np.array([[l[i]],[1]])\n",
        "  A=np.add(A,np.dot(inde_var,inde_var.T))\n",
        "\n",
        "  dep_var=y[i]\n",
        "  b=np.add(b,dep_var*inde_var)\n",
        "\n",
        "#Calculating W using psedo inverse\n",
        "w=np.dot(np.linalg.inv(A),b)\n",
        "print('The values of unknown parameter obtained our calculation',)\n",
        "print(\"coefficient of w :\",float(w[0]),'b :',float(w[1]))\n",
        "testx=np.linspace(0,59,200)\n",
        "testy=[]\n",
        "for i in testx:\n",
        "  testy.append((i*float(w[0]))+float(w[1]))\n",
        "plt.plot(testx,testy)\n",
        "plt.show\n",
        "\n",
        "\n",
        "\n",
        "\n",
        "regx = np.array([l]).T\n",
        "regy = np.array(y)\n",
        "\n",
        "reg = LinearRegression().fit(regx, regy)\n",
        "\n",
        "#The values of parameter w obtained by using Sklearn\n",
        "print('The values of unknown parameter obtained by Sklearn are :')\n",
        "print('w1:',float(reg.coef_),'b:',reg.intercept_)"
      ],
      "execution_count": null,
      "outputs": [
        {
          "output_type": "stream",
          "text": [
            "84\n",
            "205.95578826122298\n",
            "[-0.6373882988775686, -0.8801588489170885, -0.41403939284121033, -0.7781952179004902, -0.739351929894167, -0.8510263829123461, -0.39461774883804873, -0.39461774883804873, -0.25866624081591755, 0.022947597229925523, -0.5354246678609703, -0.34120822782935434, -0.5354246678609703, -0.6470991208791494, -0.35091904983093514, 0.12976663924731427, -0.4383164478451623, -0.8316047389091845, -0.015895690776397662, -0.28779870682065994, -0.40918398184041993, -0.5985450108712455, -0.885014259917879, -0.7684843958989094, 0.6250185613279349, -0.09358226678904404, -0.28294329581986954, -0.11785932179299602, 0.8483674673642932, -0.24895541881433678, -0.37034069383409673, 0.43080212129631895, -0.34120822782935434, 0.047224652233877513, 0.16860992725363746, 0.018092186229135124, -0.1809796648032712, 0.5279103413121269, -0.33149740582777354, -0.06930521178509204, 0.0957787622417815, 0.022947597229925523, 0.5861752733216117, -0.6956532308870534, 0.7027051373405813, 0.3871034222892054, -0.10329308879062483, 0.5376211633137077, 0.05693547423545831, 0.6492956163318869, -0.21011213080801358, 0.047224652233877513, 0.2997060242749782, -1.0258211789408005, 0.16375451625284707, 0.20259780425917026, -0.5597017228649223, 0.5230549303113365, -0.31207576182461194, 0.22201944826233186, 0.5764644513200309, -0.1809796648032712, 0.23173027026391266, 0.9503310983808916, 0.23173027026391266, -0.06444980078430164, 0.022947597229925523, 0.43080212129631895, 0.0763571182386199, 0.41623588829394775, 0.42594671029552855, -0.32664199482698314, 0.6298739723287253, 0.43080212129631895, 0.8532228783650836, 0.8240904123603412, 0.736693014346114, 0.8483674673642932, -0.011040279775607264, 0.44051294329789975, -0.1712688428016904, 0.6881389043382101, 0.5667536293184501, 0.9940297973880051]\n",
            "The values of unknown parameter obtained our calculation\n",
            "coefficient of w : 0.3409985374715516 b : 3.330238095238094\n",
            "The values of unknown parameter obtained by Sklearn are :\n",
            "w1: 0.3409985374715528 b: 3.330238095238095\n"
          ],
          "name": "stdout"
        },
        {
          "output_type": "display_data",
          "data": {
            "image/png": "[encoded data removed]",
            "text/plain": [
              "<Figure size 432x288 with 1 Axes>"
            ]
          },
          "metadata": {
            "tags": [],
            "needs_background": "light"
          }
        }
      ]
    }
  ]
}