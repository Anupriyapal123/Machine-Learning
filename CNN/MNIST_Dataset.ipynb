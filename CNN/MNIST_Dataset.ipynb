{
  "nbformat": 4,
  "nbformat_minor": 0,
  "metadata": {
    "colab": {
      "provenance": []
    },
    "kernelspec": {
      "name": "python3",
      "display_name": "Python 3"
    }
  },
  "cells": [
    {
      "cell_type": "code",
      "metadata": {
        "id": "OFao5sR6Zva7",
        "outputId": "3fba409b-1a0a-4913-9660-e7dea646c179",
        "colab": {
          "base_uri": "https://localhost:8080/",
          "height": 1000
        }
      },
      "source": [
        "!pip install mnist\n",
        "import tensorflow\n",
        "import numpy as np\n",
        "import mnist\n",
        "import matplotlib.pyplot as plt\n",
        "from keras.models import Sequential\n",
        "from keras.layers import Dense\n",
        "from keras.utils import to_categorical\n",
        "\n",
        "#Load dataset\n",
        "train_images=mnist.train_images()\n",
        "train_labels=mnist.train_labels()\n",
        "test_images=mnist.test_images()\n",
        "test_labels=mnist.test_labels()\n",
        "\n",
        "#Normalising the dataset\n",
        "train_images=train_images/255.0\n",
        "test_images=test_images/255.0\n",
        "\n",
        "#Flattening the images\n",
        "train_images=train_images.reshape((-1,784))\n",
        "test_images=test_images.reshape((-1,784))\n",
        "\n",
        "#Printing the Shape\n",
        "print(train_images.shape)\n",
        "print(test_images.shape)\n",
        "\n",
        "#Building the model\n",
        "model=Sequential()\n",
        "model.add(Dense(64,activation='relu', input_dim=784))\n",
        "model.add(Dense(64,activation='relu'))\n",
        "model.add(Dense(10,activation='softmax'))\n",
        "#print(model)\n",
        "\n",
        "#Compilation of model\n",
        "\n",
        "model.compile(optimizer='adam', loss='categorical_crossentropy', metrics=['accuracy'])\n",
        "\n",
        "#Train the model\n",
        "details=model.fit(train_images, to_categorical(train_labels), epochs=10 , batch_size=256 , shuffle=True)\n",
        "\n",
        "plt.plot(details.history['loss'])\n",
        "plt.title('model loss')\n",
        "plt.ylabel('loss')\n",
        "plt.xlabel('epoch')\n",
        "plt.show()\n",
        "\n",
        "#Evaluate the model\n",
        "eval=model.evaluate(test_images,to_categorical(test_labels))\n",
        "print(eval)\n",
        "\n",
        "#Prediction on the dataset\n",
        "\n",
        "predictions=model.predict(test_images[0:5])\n",
        "print(predictions)\n",
        "print(np.argmax(predictions,axis=1))\n",
        "print(test_labels[:5])\n",
        "\n",
        "train_flipped=255-train_images\n",
        "test_flipped=255- test_images\n",
        "\n",
        "train_flipped=train_flipped/255\n",
        "test_flipped=test_flipped/255\n",
        "\n",
        "#New training and Testing Dataset with mixed images of black and white background\n",
        "train_x=np.concatenate((train_images,train_flipped))\n",
        "train_y=np.concatenate((train_labels,train_labels))\n",
        "test_x=np.concatenate((test_images,test_flipped))\n",
        "test_y=np.concatenate((test_labels,test_labels))\n",
        "\n",
        "#Flattening the images\n",
        "train_x=train_x.reshape((-1,784))\n",
        "test_x=test_x.reshape((-1,784))\n",
        "#train_flipped=train_flipped.reshape((-1,784))\n",
        "#test_flipped=test_flipped.reshape((-1,784))\n",
        "\n",
        "#Printing the Shape\n",
        "print(train_x.shape)\n",
        "print(test_x.shape)\n",
        "\n",
        "\n",
        "#Building the model\n",
        "model=Sequential()\n",
        "model.add(Dense(64,activation='relu', input_dim=784))\n",
        "model.add(Dense(64,activation='relu'))\n",
        "model.add(Dense(10,activation='softmax'))\n",
        "\n",
        "#Compilation of model\n",
        "\n",
        "model.compile(optimizer='adam', loss='categorical_crossentropy', metrics=['accuracy'])\n",
        "\n",
        "#Train the model\n",
        "details=model.fit(train_x, to_categorical(train_y), epochs=20, shuffle=True , batch_size=2000)\n",
        "plt.plot(details.history['loss'])\n",
        "plt.title('model loss')\n",
        "plt.ylabel('loss')\n",
        "plt.xlabel('epoch')\n",
        "plt.show()\n",
        "\n",
        "#Prediction on the dataset\n",
        "\n",
        "predictions=model.predict(test_x[0:5])\n",
        "print(predictions)\n",
        "print(np.argmax(predictions,axis=1))\n",
        "print(test_y[:5])\n",
        "\n",
        "#To see the image\n",
        "for i in range(0,5):\n",
        "  first_image=test_images[i]\n",
        "  first_image=np.array(first_image, dtype='float')\n",
        "  pixels=first_image.reshape((28,28))\n",
        "  plt.imshow(pixels,cmap='gray')\n",
        "  plt.show()\n",
        "\n"
      ],
      "execution_count": null,
      "outputs": [
        {
          "output_type": "stream",
          "text": [
            "Collecting mnist\n",
            "  Downloading https://files.pythonhosted.org/packages/c6/c4/5db3bfe009f8d71f1d532bbadbd0ec203764bba3a469e4703a889db8e5e0/mnist-0.2.2-py2.py3-none-any.whl\n",
            "Requirement already satisfied: numpy in /usr/local/lib/python3.6/dist-packages (from mnist) (1.18.5)\n",
            "Installing collected packages: mnist\n",
            "Successfully installed mnist-0.2.2\n",
            "(60000, 784)\n",
            "(10000, 784)\n",
            "Epoch 1/10\n",
            "235/235 [==============================] - 1s 5ms/step - loss: 0.5107 - accuracy: 0.8583\n",
            "Epoch 2/10\n",
            "235/235 [==============================] - 1s 5ms/step - loss: 0.1923 - accuracy: 0.9450\n",
            "Epoch 3/10\n",
            "235/235 [==============================] - 1s 5ms/step - loss: 0.1449 - accuracy: 0.9573\n",
            "Epoch 4/10\n",
            "235/235 [==============================] - 1s 5ms/step - loss: 0.1203 - accuracy: 0.9645\n",
            "Epoch 5/10\n",
            "235/235 [==============================] - 1s 5ms/step - loss: 0.1012 - accuracy: 0.9702\n",
            "Epoch 6/10\n",
            "235/235 [==============================] - 1s 5ms/step - loss: 0.0867 - accuracy: 0.9742\n",
            "Epoch 7/10\n",
            "235/235 [==============================] - 1s 4ms/step - loss: 0.0772 - accuracy: 0.9768\n",
            "Epoch 8/10\n",
            "235/235 [==============================] - 1s 4ms/step - loss: 0.0673 - accuracy: 0.9799\n",
            "Epoch 9/10\n",
            "235/235 [==============================] - 1s 5ms/step - loss: 0.0601 - accuracy: 0.9819\n",
            "Epoch 10/10\n",
            "235/235 [==============================] - 1s 5ms/step - loss: 0.0536 - accuracy: 0.9836\n"
          ],
          "name": "stdout"
        },
        {
          "output_type": "display_data",
          "data": {
            "image/png": "[encoded data removed]",
            "text/plain": [
              "<Figure size 432x288 with 1 Axes>"
            ]
          },
          "metadata": {
            "tags": [],
            "needs_background": "light"
          }
        },
        {
          "output_type": "stream",
          "text": [
            "313/313 [==============================] - 0s 1ms/step - loss: 0.0876 - accuracy: 0.9746\n",
            "[0.08755180984735489, 0.9746000170707703]\n",
            "[[4.6099106e-07 6.3323017e-07 1.7712807e-03 9.3489951e-03 8.4496854e-11\n",
            "  1.1678985e-06 2.3280741e-12 9.8883086e-01 4.5386310e-05 1.2552147e-06]\n",
            " [1.1493064e-09 5.6377526e-06 9.9998009e-01 1.3766842e-05 4.3505048e-12\n",
            "  1.0827983e-08 1.1209431e-09 2.7085244e-11 4.4784309e-07 2.3193100e-15]\n",
            " [3.1185220e-07 9.9815279e-01 4.7476182e-04 1.3195560e-04 1.3540947e-04\n",
            "  3.8896919e-06 2.1134530e-05 8.3053636e-04 2.4565388e-04 3.4526154e-06]\n",
            " [9.9966073e-01 1.4318930e-08 1.1247722e-04 6.2218794e-07 7.1218751e-06\n",
            "  2.0810271e-06 2.3907231e-05 1.9137654e-04 4.2416239e-08 1.6309543e-06]\n",
            " [3.6683567e-05 1.7123762e-07 7.6557335e-05 6.2861778e-07 9.4707787e-01\n",
            "  1.3036832e-06 7.3877709e-06 1.0530455e-03 9.8514647e-06 5.1736429e-02]]\n",
            "[7 2 1 0 4]\n",
            "[7 2 1 0 4]\n",
            "(120000, 784)\n",
            "(20000, 784)\n",
            "Epoch 1/20\n",
            "60/60 [==============================] - 1s 19ms/step - loss: 1.7982 - accuracy: 0.3807\n",
            "Epoch 2/20\n",
            "60/60 [==============================] - 1s 19ms/step - loss: 1.3524 - accuracy: 0.4953\n",
            "Epoch 3/20\n",
            "60/60 [==============================] - 1s 19ms/step - loss: 1.2968 - accuracy: 0.5119\n",
            "Epoch 4/20\n",
            "60/60 [==============================] - 1s 19ms/step - loss: 1.2713 - accuracy: 0.5179\n",
            "Epoch 5/20\n",
            "60/60 [==============================] - 1s 19ms/step - loss: 1.2556 - accuracy: 0.5226\n",
            "Epoch 6/20\n",
            "60/60 [==============================] - 1s 19ms/step - loss: 1.2444 - accuracy: 0.5242\n",
            "Epoch 7/20\n",
            "60/60 [==============================] - 1s 19ms/step - loss: 1.2347 - accuracy: 0.5276\n",
            "Epoch 8/20\n",
            "60/60 [==============================] - 1s 19ms/step - loss: 1.2270 - accuracy: 0.5303\n",
            "Epoch 9/20\n",
            "60/60 [==============================] - 1s 19ms/step - loss: 1.2207 - accuracy: 0.5334\n",
            "Epoch 10/20\n",
            "60/60 [==============================] - 1s 19ms/step - loss: 1.2151 - accuracy: 0.5357\n",
            "Epoch 11/20\n",
            "60/60 [==============================] - 1s 20ms/step - loss: 1.2105 - accuracy: 0.5352\n",
            "Epoch 12/20\n",
            "60/60 [==============================] - 1s 20ms/step - loss: 1.2085 - accuracy: 0.5375\n",
            "Epoch 13/20\n",
            "60/60 [==============================] - 1s 20ms/step - loss: 1.2035 - accuracy: 0.5391\n",
            "Epoch 14/20\n",
            "60/60 [==============================] - 1s 19ms/step - loss: 1.1996 - accuracy: 0.5370\n",
            "Epoch 15/20\n",
            "60/60 [==============================] - 1s 19ms/step - loss: 1.1974 - accuracy: 0.5404\n",
            "Epoch 16/20\n",
            "60/60 [==============================] - 1s 20ms/step - loss: 1.1941 - accuracy: 0.5417\n",
            "Epoch 17/20\n",
            "60/60 [==============================] - 1s 19ms/step - loss: 1.1916 - accuracy: 0.5418\n",
            "Epoch 18/20\n",
            "60/60 [==============================] - 1s 20ms/step - loss: 1.1902 - accuracy: 0.5427\n",
            "Epoch 19/20\n",
            "60/60 [==============================] - 1s 19ms/step - loss: 1.1870 - accuracy: 0.5446\n",
            "Epoch 20/20\n",
            "60/60 [==============================] - 1s 19ms/step - loss: 1.1845 - accuracy: 0.5455\n"
          ],
          "name": "stdout"
        },
        {
          "output_type": "display_data",
          "data": {
            "image/png": "[encoded data removed]",
            "text/plain": [
              "<Figure size 432x288 with 1 Axes>"
            ]
          },
          "metadata": {
            "tags": [],
            "needs_background": "light"
          }
        },
        {
          "output_type": "stream",
          "text": [
            "[[1.3195167e-06 3.0998739e-09 1.0824408e-05 4.1645119e-04 1.0953250e-06\n",
            "  2.8568614e-08 4.1583577e-12 9.9955302e-01 2.4130254e-06 1.4863887e-05]\n",
            " [8.8384570e-07 8.6502558e-05 9.9857676e-01 2.9803606e-04 2.6544162e-09\n",
            "  1.0197689e-03 4.1471403e-06 3.9633754e-09 1.3919765e-05 1.0619689e-10]\n",
            " [2.8537155e-05 9.9554896e-01 1.2114818e-03 1.6349772e-04 6.3201814e-04\n",
            "  5.1788571e-05 5.4666252e-05 1.5499833e-03 7.1961916e-04 3.9407234e-05]\n",
            " [9.9903917e-01 1.0937632e-06 4.8666925e-04 9.9931776e-06 2.1178621e-06\n",
            "  9.2306705e-05 1.2156576e-05 3.1647220e-04 3.5451315e-08 4.0117833e-05]\n",
            " [4.2963526e-05 5.2660744e-07 3.0766550e-05 3.5633520e-06 9.9863380e-01\n",
            "  6.4650367e-06 2.3046226e-05 2.3846976e-04 8.0606051e-06 1.0123454e-03]]\n",
            "[7 2 1 0 4]\n",
            "[7 2 1 0 4]\n"
          ],
          "name": "stdout"
        },
        {
          "output_type": "display_data",
          "data": {
            "image/png": "[encoded data removed]",
            "text/plain": [
              "<Figure size 432x288 with 1 Axes>"
            ]
          },
          "metadata": {
            "tags": [],
            "needs_background": "light"
          }
        },
        {
          "output_type": "display_data",
          "data": {
            "image/png": "[encoded data removed]",
            "text/plain": [
              "<Figure size 432x288 with 1 Axes>"
            ]
          },
          "metadata": {
            "tags": [],
            "needs_background": "light"
          }
        },
        {
          "output_type": "display_data",
          "data": {
            "image/png": "[encoded data removed]",
            "text/plain": [
              "<Figure size 432x288 with 1 Axes>"
            ]
          },
          "metadata": {
            "tags": [],
            "needs_background": "light"
          }
        },
        {
          "output_type": "display_data",
          "data": {
            "image/png": "[encoded data removed]",
            "text/plain": [
              "<Figure size 432x288 with 1 Axes>"
            ]
          },
          "metadata": {
            "tags": [],
            "needs_background": "light"
          }
        },
        {
          "output_type": "display_data",
          "data": {
            "image/png": "[encoded data removed]",
            "text/plain": [
              "<Figure size 432x288 with 1 Axes>"
            ]
          },
          "metadata": {
            "tags": [],
            "needs_background": "light"
          }
        }
      ]
    }
  ]
}