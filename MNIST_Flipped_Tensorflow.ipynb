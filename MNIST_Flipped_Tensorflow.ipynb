{
  "nbformat": 4,
  "nbformat_minor": 0,
  "metadata": {
    "colab": {
      "provenance": []
    },
    "kernelspec": {
      "name": "python3",
      "display_name": "Python 3"
    }
  },
  "cells": [
    {
      "cell_type": "code",
      "metadata": {
        "id": "8EIoF6NZmZon",
        "outputId": "647a1504-ab68-4ae1-b645-9f9d137bac6c",
        "colab": {
          "base_uri": "https://localhost:8080/"
        }
      },
      "source": [
        "%tensorflow_version 2.x\n",
        "\n",
        "!pip install mnist\n",
        "import tensorflow\n",
        "import numpy as np\n",
        "import mnist\n",
        "import matplotlib.pyplot as plt\n",
        "from keras.models import Sequential\n",
        "from keras.layers import Dense\n",
        "from keras.utils import to_categorical\n"
      ],
      "execution_count": 1,
      "outputs": [
        {
          "output_type": "stream",
          "name": "stdout",
          "text": [
            "Colab only includes TensorFlow 2.x; %tensorflow_version has no effect.\n",
            "Looking in indexes: https://pypi.org/simple, https://us-python.pkg.dev/colab-wheels/public/simple/\n",
            "Collecting mnist\n",
            "  Downloading mnist-0.2.2-py2.py3-none-any.whl (3.5 kB)\n",
            "Requirement already satisfied: numpy in /usr/local/lib/python3.9/dist-packages (from mnist) (1.22.4)\n",
            "Installing collected packages: mnist\n",
            "Successfully installed mnist-0.2.2\n"
          ]
        }
      ]
    },
    {
      "cell_type": "code",
      "source": [],
      "metadata": {
        "id": "QzCqOHx6QFr-"
      },
      "execution_count": null,
      "outputs": []
    },
    {
      "cell_type": "code",
      "metadata": {
        "id": "LzTs-qlpmsMm"
      },
      "source": [
        "#Load dataset\n",
        "train_images=mnist.train_images()\n",
        "train_labels=mnist.train_labels()\n",
        "test_images=mnist.test_images()\n",
        "test_labels=mnist.test_labels()\n",
        "train_flipped=255-train_images\n",
        "test_flipped=255-test_images"
      ],
      "execution_count": null,
      "outputs": []
    },
    {
      "cell_type": "code",
      "metadata": {
        "id": "3CcGkdNmmz8-",
        "outputId": "61010573-ae9b-411b-bb0d-731cd22786f7",
        "colab": {
          "base_uri": "https://localhost:8080/",
          "height": 335
        }
      },
      "source": [
        "#Normalising the dataset\n",
        "train_images=train_images/255\n",
        "test_images=test_images/255\n",
        "print(train_images.shape)\n",
        "\n",
        "#Normalising the dataset\n",
        "\n",
        "train_flipped=train_flipped/255\n",
        "test_flipped=test_flipped/255\n",
        "print(train_flipped.shape)\n",
        "print(train_images.shape)\n",
        "\n",
        "\n",
        "#New training and Testing Dataset with mixed images of black and white background\n",
        "train_x=np.concatenate((train_images,train_flipped))\n",
        "train_y=np.concatenate((train_labels,train_labels))\n",
        "test_x=np.concatenate((test_images,test_flipped))\n",
        "test_y=np.concatenate((test_labels,test_labels))\n",
        "\n",
        "\n",
        "#train_flipped=train_flipped.reshape((-1,784))\n",
        "#test_flipped=test_flipped.reshape((-1,784))\n",
        "#Flattening the images\n",
        "train_images=train_images.reshape((-1,784))\n",
        "test_images=test_images.reshape((-1,784))\n",
        "#Flattening the images\n",
        "train_x=train_x.reshape((-1,784))\n",
        "test_x=test_x.reshape((-1,784))\n",
        "\n",
        "#Printing the Shape\n",
        "print(train_x.shape)\n",
        "print(test_x.shape)\n",
        "\n",
        "\n",
        "\n",
        "\n",
        "#Printing the Shape\n",
        "print(train_images.shape)\n",
        "print(test_images.shape)"
      ],
      "execution_count": null,
      "outputs": [
        {
          "output_type": "stream",
          "text": [
            "(60000, 784)\n",
            "(60000, 28, 28)\n",
            "(60000, 784)\n"
          ],
          "name": "stdout"
        },
        {
          "output_type": "error",
          "ename": "ValueError",
          "evalue": "ignored",
          "traceback": [
            "\u001b[0;31m---------------------------------------------------------------------------\u001b[0m",
            "\u001b[0;31mValueError\u001b[0m                                Traceback (most recent call last)",
            "\u001b[0;32m<ipython-input-32-f5fe3fc9db3d>\u001b[0m in \u001b[0;36m<module>\u001b[0;34m()\u001b[0m\n\u001b[1;32m     13\u001b[0m \u001b[0;34m\u001b[0m\u001b[0m\n\u001b[1;32m     14\u001b[0m \u001b[0;31m#New training and Testing Dataset with mixed images of black and white background\u001b[0m\u001b[0;34m\u001b[0m\u001b[0;34m\u001b[0m\u001b[0;34m\u001b[0m\u001b[0m\n\u001b[0;32m---> 15\u001b[0;31m \u001b[0mtrain_x\u001b[0m\u001b[0;34m=\u001b[0m\u001b[0mnp\u001b[0m\u001b[0;34m.\u001b[0m\u001b[0mconcatenate\u001b[0m\u001b[0;34m(\u001b[0m\u001b[0;34m(\u001b[0m\u001b[0mtrain_images\u001b[0m\u001b[0;34m,\u001b[0m\u001b[0mtrain_flipped\u001b[0m\u001b[0;34m)\u001b[0m\u001b[0;34m)\u001b[0m\u001b[0;34m\u001b[0m\u001b[0;34m\u001b[0m\u001b[0m\n\u001b[0m\u001b[1;32m     16\u001b[0m \u001b[0mtrain_y\u001b[0m\u001b[0;34m=\u001b[0m\u001b[0mnp\u001b[0m\u001b[0;34m.\u001b[0m\u001b[0mconcatenate\u001b[0m\u001b[0;34m(\u001b[0m\u001b[0;34m(\u001b[0m\u001b[0mtrain_labels\u001b[0m\u001b[0;34m,\u001b[0m\u001b[0mtrain_labels\u001b[0m\u001b[0;34m)\u001b[0m\u001b[0;34m)\u001b[0m\u001b[0;34m\u001b[0m\u001b[0;34m\u001b[0m\u001b[0m\n\u001b[1;32m     17\u001b[0m \u001b[0mtest_x\u001b[0m\u001b[0;34m=\u001b[0m\u001b[0mnp\u001b[0m\u001b[0;34m.\u001b[0m\u001b[0mconcatenate\u001b[0m\u001b[0;34m(\u001b[0m\u001b[0;34m(\u001b[0m\u001b[0mtest_images\u001b[0m\u001b[0;34m,\u001b[0m\u001b[0mtest_flipped\u001b[0m\u001b[0;34m)\u001b[0m\u001b[0;34m)\u001b[0m\u001b[0;34m\u001b[0m\u001b[0;34m\u001b[0m\u001b[0m\n",
            "\u001b[0;32m<__array_function__ internals>\u001b[0m in \u001b[0;36mconcatenate\u001b[0;34m(*args, **kwargs)\u001b[0m\n",
            "\u001b[0;31mValueError\u001b[0m: all the input arrays must have same number of dimensions, but the array at index 0 has 2 dimension(s) and the array at index 1 has 3 dimension(s)"
          ]
        }
      ]
    },
    {
      "cell_type": "code",
      "metadata": {
        "id": "kQrmiFAim86-",
        "outputId": "a652e76d-d314-4341-eb97-76970b308ef4",
        "colab": {
          "base_uri": "https://localhost:8080/",
          "height": 695
        }
      },
      "source": [
        "\n",
        "#Building the model\n",
        "model=Sequential()\n",
        "model.add(Dense(64,activation='relu', input_dim=784))\n",
        "model.add(Dense(64,activation='relu'))\n",
        "model.add(Dense(10,activation='softmax'))\n",
        "#print(model)\n",
        "\n",
        "#Compilation of model\n",
        "\n",
        "model.compile(optimizer='adam', loss='categorical_crossentropy', metrics=['accuracy'])\n",
        "\n",
        "#Train the model\n",
        "details=model.fit(train_images, to_categorical(train_labels), epochs=10 , batch_size=256 , shuffle=True)\n",
        "\n",
        "plt.plot(details.history['loss'])\n",
        "plt.title('Error')\n",
        "plt.ylabel('loss')\n",
        "plt.xlabel('epoch')\n",
        "plt.show()\n",
        "\n",
        "#Evaluate the model\n",
        "eval=model.evaluate(test_images,to_categorical(test_labels))\n",
        "print(eval)"
      ],
      "execution_count": null,
      "outputs": [
        {
          "output_type": "stream",
          "text": [
            "Epoch 1/10\n",
            "235/235 [==============================] - 1s 4ms/step - loss: 0.4860 - accuracy: 0.8666\n",
            "Epoch 2/10\n",
            "235/235 [==============================] - 1s 5ms/step - loss: 0.1962 - accuracy: 0.9438\n",
            "Epoch 3/10\n",
            "235/235 [==============================] - 1s 5ms/step - loss: 0.1476 - accuracy: 0.9578\n",
            "Epoch 4/10\n",
            "235/235 [==============================] - 1s 5ms/step - loss: 0.1223 - accuracy: 0.9642\n",
            "Epoch 5/10\n",
            "235/235 [==============================] - 1s 5ms/step - loss: 0.1023 - accuracy: 0.9700\n",
            "Epoch 6/10\n",
            "235/235 [==============================] - 1s 4ms/step - loss: 0.0879 - accuracy: 0.9748\n",
            "Epoch 7/10\n",
            "235/235 [==============================] - 1s 4ms/step - loss: 0.0764 - accuracy: 0.9776\n",
            "Epoch 8/10\n",
            "235/235 [==============================] - 1s 5ms/step - loss: 0.0671 - accuracy: 0.9799\n",
            "Epoch 9/10\n",
            "235/235 [==============================] - 1s 5ms/step - loss: 0.0594 - accuracy: 0.9826\n",
            "Epoch 10/10\n",
            "235/235 [==============================] - 1s 4ms/step - loss: 0.0530 - accuracy: 0.9844\n"
          ],
          "name": "stdout"
        },
        {
          "output_type": "display_data",
          "data": {
            "image/png": "[encoded data removed]",
            "text/plain": [
              "<Figure size 432x288 with 1 Axes>"
            ]
          },
          "metadata": {
            "tags": [],
            "needs_background": "light"
          }
        },
        {
          "output_type": "stream",
          "text": [
            "313/313 [==============================] - 0s 1ms/step - loss: 0.0866 - accuracy: 0.9738\n",
            "[0.08663512766361237, 0.973800003528595]\n"
          ],
          "name": "stdout"
        }
      ]
    },
    {
      "cell_type": "code",
      "metadata": {
        "id": "-FQOc8xZp5T7",
        "outputId": "bf53a050-ed0b-471b-df3e-414388c04fc2",
        "colab": {
          "base_uri": "https://localhost:8080/",
          "height": 326
        }
      },
      "source": [
        "#Prediction on the dataset\n",
        "\n",
        "predictions=model.predict(test_images[0:5])\n",
        "print(predictions)\n",
        "print(np.argmax(predictions,axis=1))\n",
        "print(test_labels[:5])"
      ],
      "execution_count": null,
      "outputs": [
        {
          "output_type": "stream",
          "text": [
            "[[1.65788799e-06 2.87593149e-09 9.29175803e-06 1.07517757e-04\n",
            "  1.14708287e-08 3.36508788e-06 3.59606844e-10 9.99866486e-01\n",
            "  3.27152384e-06 8.38426604e-06]\n",
            " [2.95798600e-06 2.30958394e-04 9.98716116e-01 1.03130052e-03\n",
            "  3.52922885e-10 1.06246425e-05 1.29823249e-07 9.28521357e-11\n",
            "  7.93353684e-06 1.51535978e-10]\n",
            " [1.85338558e-05 9.98199821e-01 1.39331751e-04 6.12205185e-05\n",
            "  1.93216736e-04 1.33728809e-05 3.47288151e-05 9.82021913e-04\n",
            "  3.00327200e-04 5.74559854e-05]\n",
            " [9.99926925e-01 1.02656772e-09 2.01963321e-05 5.65770328e-08\n",
            "  9.08812303e-10 1.54959071e-05 1.77966604e-06 8.57907423e-07\n",
            "  2.09063011e-09 3.46735360e-05]\n",
            " [9.06349851e-06 2.20383654e-07 1.96345190e-05 1.68797484e-07\n",
            "  9.95423496e-01 1.02408444e-06 7.63743628e-06 2.45969495e-05\n",
            "  5.42605630e-06 4.50877659e-03]]\n",
            "[7 2 1 0 4]\n",
            "[7 2 1 0 4]\n"
          ],
          "name": "stdout"
        }
      ]
    },
    {
      "cell_type": "code",
      "metadata": {
        "id": "erlWUAE9qsKO",
        "outputId": "c0d90283-fe6d-4b5a-a840-70d59abf03f2",
        "colab": {
          "base_uri": "https://localhost:8080/",
          "height": 280
        }
      },
      "source": [
        "\n",
        "#Building the model\n",
        "model1=Sequential()\n",
        "model1.add(Dense(64,activation='relu', input_dim=784))\n",
        "model1.add(Dense(64,activation='relu'))\n",
        "model1.add(Dense(10,activation='softmax'))\n",
        "\n",
        "#Compilation of model\n",
        "\n",
        "model1.compile(optimizer='adam', loss='categorical_crossentropy', metrics=['accuracy'])\n",
        "\n",
        "#Train the model\n",
        "details=model1.fit(train_x, to_categorical(train_y), epochs=20, batch_size=200)\n",
        "plt.plot(details.history['loss'])\n",
        "plt.title(' Error')\n",
        "plt.ylabel('loss')\n",
        "plt.xlabel('epoch')\n",
        "plt.show()\n"
      ],
      "execution_count": null,
      "outputs": [
        {
          "output_type": "error",
          "ename": "ValueError",
          "evalue": "ignored",
          "traceback": [
            "\u001b[0;31m---------------------------------------------------------------------------\u001b[0m",
            "\u001b[0;31mValueError\u001b[0m                                Traceback (most recent call last)",
            "\u001b[0;32m<ipython-input-28-6dace2aad695>\u001b[0m in \u001b[0;36m<module>\u001b[0;34m()\u001b[0m\n\u001b[1;32m      4\u001b[0m \u001b[0;34m\u001b[0m\u001b[0m\n\u001b[1;32m      5\u001b[0m \u001b[0;31m#New training and Testing Dataset with mixed images of black and white background\u001b[0m\u001b[0;34m\u001b[0m\u001b[0;34m\u001b[0m\u001b[0;34m\u001b[0m\u001b[0m\n\u001b[0;32m----> 6\u001b[0;31m \u001b[0mtrain_x\u001b[0m\u001b[0;34m=\u001b[0m\u001b[0mnp\u001b[0m\u001b[0;34m.\u001b[0m\u001b[0mconcatenate\u001b[0m\u001b[0;34m(\u001b[0m\u001b[0;34m(\u001b[0m\u001b[0mtrain_images\u001b[0m\u001b[0;34m,\u001b[0m\u001b[0mtrain_flipped\u001b[0m\u001b[0;34m)\u001b[0m\u001b[0;34m)\u001b[0m\u001b[0;34m\u001b[0m\u001b[0;34m\u001b[0m\u001b[0m\n\u001b[0m\u001b[1;32m      7\u001b[0m \u001b[0mtrain_y\u001b[0m\u001b[0;34m=\u001b[0m\u001b[0mnp\u001b[0m\u001b[0;34m.\u001b[0m\u001b[0mconcatenate\u001b[0m\u001b[0;34m(\u001b[0m\u001b[0;34m(\u001b[0m\u001b[0mtrain_labels\u001b[0m\u001b[0;34m,\u001b[0m\u001b[0mtrain_labels\u001b[0m\u001b[0;34m)\u001b[0m\u001b[0;34m)\u001b[0m\u001b[0;34m\u001b[0m\u001b[0;34m\u001b[0m\u001b[0m\n\u001b[1;32m      8\u001b[0m \u001b[0mtest_x\u001b[0m\u001b[0;34m=\u001b[0m\u001b[0mnp\u001b[0m\u001b[0;34m.\u001b[0m\u001b[0mconcatenate\u001b[0m\u001b[0;34m(\u001b[0m\u001b[0;34m(\u001b[0m\u001b[0mtest_images\u001b[0m\u001b[0;34m,\u001b[0m\u001b[0mtest_flipped\u001b[0m\u001b[0;34m)\u001b[0m\u001b[0;34m)\u001b[0m\u001b[0;34m\u001b[0m\u001b[0;34m\u001b[0m\u001b[0m\n",
            "\u001b[0;32m<__array_function__ internals>\u001b[0m in \u001b[0;36mconcatenate\u001b[0;34m(*args, **kwargs)\u001b[0m\n",
            "\u001b[0;31mValueError\u001b[0m: all the input arrays must have same number of dimensions, but the array at index 0 has 2 dimension(s) and the array at index 1 has 3 dimension(s)"
          ]
        }
      ]
    },
    {
      "cell_type": "code",
      "metadata": {
        "id": "aiL4cf_cwWTQ",
        "outputId": "d39299e3-168f-4ef1-8fd6-893429bf0e5d",
        "colab": {
          "base_uri": "https://localhost:8080/",
          "height": 235
        }
      },
      "source": [
        "#Prediction on the dataset\n",
        "\n",
        "predictions=model.predict(test_x[0:5])\n",
        "print(predictions)\n",
        "print(np.argmax(predictions,axis=1))\n",
        "print(test_y[:5])"
      ],
      "execution_count": null,
      "outputs": [
        {
          "output_type": "stream",
          "text": [
            "[[2.8722727e-06 5.0096955e-06 1.0855476e-03 9.0017886e-04 1.6814596e-06\n",
            "  9.2889529e-08 1.0239831e-08 9.9794739e-01 2.6460200e-05 3.0739571e-05]\n",
            " [2.7414027e-09 7.4132324e-05 9.9985874e-01 2.2795295e-05 1.8335879e-13\n",
            "  4.3920438e-05 6.7328934e-08 4.1297573e-11 1.8196123e-07 1.4889964e-10]\n",
            " [1.6446527e-05 9.9074078e-01 2.2461715e-03 1.9140876e-04 2.9870938e-04\n",
            "  1.2446930e-04 2.0216776e-04 4.2818841e-03 1.8816947e-03 1.6302656e-05]\n",
            " [9.9967957e-01 1.5337850e-05 9.2727561e-05 1.0156027e-05 3.2790042e-06\n",
            "  8.1016096e-06 1.1287693e-04 7.7016935e-05 2.2119723e-07 7.8555956e-07]\n",
            " [6.1856168e-05 2.7391302e-06 8.4105202e-05 4.3214923e-06 9.9759465e-01\n",
            "  5.5649019e-07 4.9869286e-05 4.5083728e-04 4.8507121e-05 1.7025141e-03]]\n",
            "[7 2 1 0 4]\n",
            "[7 2 1 0 4]\n"
          ],
          "name": "stdout"
        }
      ]
    },
    {
      "cell_type": "code",
      "metadata": {
        "id": "GUidDRp7w_j-"
      },
      "source": [
        "#To see the image\n",
        "for i in range(0,5):\n",
        "  first_image=test_images[i]\n",
        "  first_image=np.array(first_image, dtype='float')\n",
        "  pixels=first_image.reshape((28,28))\n",
        "  plt.imshow(pixels,cmap='gray')\n",
        "  plt.show()"
      ],
      "execution_count": null,
      "outputs": []
    },
    {
      "cell_type": "code",
      "metadata": {
        "id": "GSiv1U4DxVK_"
      },
      "source": [
        "\n"
      ],
      "execution_count": null,
      "outputs": []
    },
    {
      "cell_type": "code",
      "metadata": {
        "id": "C058q2uJCHtm"
      },
      "source": [],
      "execution_count": null,
      "outputs": []
    }
  ]
}