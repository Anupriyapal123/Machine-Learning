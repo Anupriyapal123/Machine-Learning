{
  "nbformat": 4,
  "nbformat_minor": 0,
  "metadata": {
    "colab": {
      "provenance": []
    },
    "kernelspec": {
      "name": "python3",
      "display_name": "Python 3"
    }
  },
  "cells": [
    {
      "cell_type": "code",
      "metadata": {
        "id": "KSbtkcfUOah2",
        "outputId": "3b3e8a18-d416-4772-c3b2-5ed35c6094a3",
        "colab": {
          "base_uri": "https://localhost:8080/",
          "height": 446
        }
      },
      "source": [
        "import pandas as pd\n",
        "import numpy as np\n",
        "import matplotlib.pyplot as plt\n",
        "from sklearn import svm\n",
        "from sklearn.linear_model import LogisticRegression\n",
        "from sklearn.model_selection import train_test_split\n",
        "from sklearn.linear_model import SGDClassifier\n",
        "\n",
        "#Reading the dataset\n",
        "\n",
        "df=pd.read_csv(\"ML3-DATASET.csv\")\n",
        "df.head(10)\n",
        "\n",
        "# Dataframe for target values 0 and 1\n",
        "\n",
        "df0=df[df['class']==0]\n",
        "df1=df[df['class']==1]\n",
        "\n",
        "#Plotting the curve against two features\n",
        "\n",
        "plt.scatter(df0['variance'],df0[\"skewness\"],color=\"red\", marker=\"+\")\n",
        "plt.scatter(df1['variance'],df1[\"skewness\"],color=\"blue\", marker=\".\")\n",
        "\n",
        "# Using all featurs except the target for training the model\n",
        "X=df.drop(['class'],axis='columns')\n",
        "X.head()\n",
        "y=df['class']\n",
        "\n",
        "#Slitting the dataset into training and testing in 70-30 or 80-20 or 90-10\n",
        "x_train,x_test,y_train,y_test=train_test_split(X,y,test_size=0.3)\n",
        "\n",
        "#Implenettaion of Support Vector machine using sklearn\n",
        "\n",
        "from sklearn.svm import SVC\n",
        "\n",
        "#Svm Classifier using Linear kernel\n",
        "model=SVC(kernel=\"linear\")\n",
        "\n",
        "#Using object of svm class and traing model\n",
        "model.fit(x_train,y_train)\n",
        "model.predict(x_test)\n",
        "print(model.score(x_test,y_test))\n",
        "\n",
        "# get number of support vectors for each class\n",
        "print(model.n_support_)\n",
        "\n",
        "#Getting parameter coefficients and intercept\n",
        "print(model.coef_,model.intercept_)\n",
        "\n",
        "#Svm Classifier using Polynomial kernel using different regularization parameter\n",
        "model1=SVC(kernel=\"poly\",C=100)\n",
        "\n",
        "model1.fit(x_train,y_train)\n",
        "model1.predict(x_test)\n",
        "print(model1.score(x_test,y_test))\n",
        "print(model1.n_support_)\n",
        "\n",
        "#Svm Classifier using Gaussian kernel using different regularization parameter\n",
        "model0=SVC()\n",
        "\n",
        "model0.fit(x_train,y_train)\n",
        "model0.predict(x_test)\n",
        "print(model0.score(x_test,y_test))\n",
        "print(model0.n_support_)\n",
        "#Logistic Regression from sklearn\n",
        "\n",
        "model2=LogisticRegression()\n",
        "model2.fit(x_train,y_train)\n",
        "model2.predict(x_test)\n",
        "print(model2.score(x_test,y_test))\n",
        "\n",
        "#Logistic Regression using Stochastic Gradient Descent\n",
        "# Increased the maximum iteration for the convergence of curve\n",
        "\n",
        "model3=LogisticRegression(solver='sag',max_iter=200 , C=0.1)\n",
        "model3.fit(x_train,y_train)\n",
        "model3.predict(x_test)\n",
        "print(model3.score(x_test,y_test))\n",
        "\n",
        "\n",
        "#Stochastic Gradient Descent procedure\n",
        "sgd_classifier=SGDClassifier()\n",
        "sgd_classifier.fit(x_train,y_train)\n",
        "l=x_test\n",
        "#print(l)\n",
        "#print(sgd_classifier.predict(l))\n",
        "\n",
        "#Half Space Classifier Using Perceptron\n",
        "\n",
        "from sklearn.linear_model import Perceptron\n",
        "clf= Perceptron(random_state=0)\n",
        "clf.fit(x_train, y_train)\n",
        "print(clf.score(X, y))\n",
        "\n",
        "\n",
        "\n",
        "\n",
        "\n"
      ],
      "execution_count": null,
      "outputs": [
        {
          "output_type": "stream",
          "text": [
            "0.9833333333333333\n",
            "[4 5]\n",
            "[[-1.07069384 -0.75954988 -0.84873153 -0.01346586]] [2.10835514]\n",
            "0.9833333333333333\n",
            "[9 9]\n",
            "0.9833333333333333\n",
            "[20 22]\n",
            "0.9833333333333333\n",
            "0.9833333333333333\n",
            "0.96\n"
          ],
          "name": "stdout"
        },
        {
          "output_type": "display_data",
          "data": {
            "image/png": "[encoded data removed]",
            "text/plain": [
              "<Figure size 432x288 with 1 Axes>"
            ]
          },
          "metadata": {
            "tags": [],
            "needs_background": "light"
          }
        }
      ]
    }
  ]
}